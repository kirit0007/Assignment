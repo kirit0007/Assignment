{
  "metadata": {
    "kernelspec": {
      "name": "python",
      "display_name": "Python (Pyodide)",
      "language": "python"
    },
    "language_info": {
      "codemirror_mode": {
        "name": "python",
        "version": 3
      },
      "file_extension": ".py",
      "mimetype": "text/x-python",
      "name": "python",
      "nbconvert_exporter": "python",
      "pygments_lexer": "ipython3",
      "version": "3.8"
    }
  },
  "nbformat_minor": 4,
  "nbformat": 4,
  "cells": [
    {
      "cell_type": "markdown",
      "source": "# Data Science Tools and Ecosystem\n",
      "metadata": {}
    },
    {
      "cell_type": "markdown",
      "source": "### Introduction\n\nIn this notebook, we'll explore the fascinating world of data science, from essential tools to the vibrant ecosystem that surrounds it.\n",
      "metadata": {}
    },
    {
      "cell_type": "markdown",
      "source": "## Some of the Popular Languages for Data Science:\n\n1. **Python**:Python offers an extensive ecosystem of libraries (such as NumPy, pandas, and scikit-learn) for data manipulation, analysis, and machine learning.\n\n2. **R**: A statistical programming language that excels in data visualization, statistical modeling, and exploratory data analysis. R enthusiasts appreciate its rich package ecosystem (ggplot2, dplyr, and tidyr).\n\n3. **SQL**: Although not a traditional programming language, SQL (Structured Query Language) is essential for working with databases. Data Scientists often use SQL to extract, transform, and load data from various sources.\n\n",
      "metadata": {}
    },
    {
      "cell_type": "markdown",
      "source": "## Some of the Commonly Used Libraries for Data Science:\n\n1. **NumPy**: A fundamental library for numerical computing in Python. It provides support for large, multi-dimensional arrays and matrices, along with mathematical functions to operate on these arrays.\n\n2. **pandas**: A powerful data manipulation library that allows you to work with structured data (such as tabular data) efficiently. pandas provides data frames, data cleaning tools, and powerful data aggregation capabilities.\n\n3. **matplotlib**: A versatile plotting library for creating static, animated, and interactive visualizations. It's a go-to choice for data visualization in Python.\n\n4. **seaborn**: Built on top of matplotlib, seaborn provides a high-level interface for creating attractive statistical graphics. It simplifies complex visualizations and enhances the aesthetics.\n\n5. **scikit-learn**: A machine learning library that offers a wide range of algorithms for classification, regression, clustering, and more. It's beginner-friendly and integrates seamlessly with other data science tools.\n\n6. **TensorFlow** and **PyTorch**: Deep learning frameworks that allow you to build and train neural networks. TensorFlow is widely used in production environments, while PyTorch is popular among researchers and practitioners.\n\n\n",
      "metadata": {}
    },
    {
      "cell_type": "markdown",
      "source": "## Data Science Tools \n\n| Data Science Tools |\n|--------------------|\n| Jupyter Notebook   |\n| RStudio            |\n| Visual Studio Code |\n",
      "metadata": {}
    },
    {
      "cell_type": "markdown",
      "source": "### Examples of Evaluating Arithmetic Expressions in Python\n",
      "metadata": {}
    },
    {
      "cell_type": "code",
      "source": "# This is a simple arithmetic expression to multiply and then add integers.\nresult = (3 * 4) + 5\nprint(\"Result:\", result)\n",
      "metadata": {
        "trusted": true
      },
      "outputs": [
        {
          "name": "stdout",
          "text": "Result: 17\n",
          "output_type": "stream"
        }
      ],
      "execution_count": 1
    },
    {
      "cell_type": "code",
      "source": "# Convert 200 minutes to hours by dividing by 60\nminutes = 200\nhours = minutes / 60\nprint(\"200 minutes =\", hours, \"hours\")\n",
      "metadata": {
        "trusted": true
      },
      "outputs": [
        {
          "name": "stdout",
          "text": "200 minutes = 3.3333333333333335 hours\n",
          "output_type": "stream"
        }
      ],
      "execution_count": 2
    },
    {
      "cell_type": "markdown",
      "source": "## Objectives:\n\n- **List popular languages for Data Science**\n- **Explore essential libraries used by Data Scientists**\n- **Understand the role of Jupyter Notebooks and other development environments**\n- **Evaluate arithmetic expressions in Python**\n- **Create a comprehensive overview of the data science ecosystem**\n\n",
      "metadata": {
        "jp-MarkdownHeadingCollapsed": true
      }
    },
    {
      "cell_type": "markdown",
      "source": "## Author\n**Utkarsh**\n",
      "metadata": {}
    }
  ]
}